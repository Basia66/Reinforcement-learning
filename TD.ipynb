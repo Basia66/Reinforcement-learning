{
 "cells": [
  {
   "cell_type": "markdown",
   "metadata": {
    "pycharm": {
     "name": "#%% md\n"
    }
   },
   "source": [
    "# Teoria"
   ]
  },
  {
   "cell_type": "markdown",
   "metadata": {
    "pycharm": {
     "name": "#%% md\n"
    }
   },
   "source": [
    "## Uczenie Temporal Difference\n",
    "Metoda **model-free** oznacza, że agent uczy się jedynie poprzez doświadczenie, nie ma on dostępu do macierzy przejść MDP.\n",
    "Metody Monte Carlo wymagają ukończenia całego epizodu (dopiero wtedy znana jest wartość $G_t$) zanim będzie można zaktualizować wartość $V(S_t)$.\n",
    "Metody Temporal Difference natomiast mogą dokonać aktualizacji już po jednym kroku czasu\n",
    "\n",
    "Najprostsza metoda TD dokonuje następującej aktualizacji:\n",
    "$V(S_t) \\leftarrow V(S_t)+\\alpha[R_{r+1}+\\gamma V(S_{t+1})-V(S_t)]$\n",
    "\n",
    "Dzieje się to natychmiast po tranzycji do stanu $S_{t+1}$ oraz po otrzymaniu nagrody $R_{t+1}$.\n",
    "Inaczej mówiąc, metoda ta aktualizuje wartość funkcji $V$ o mały krok $\\alpha$ w kierunku celu (*TD target*), który jest w tym przypadku następujący $R_{r+1}+\\gamma V(S_{t+1})$ ($G_t$ w przypadku MC). Taka metoda TD nazywana jest $TD(0)$.\n",
    "\n",
    "Zauważmy, że wartość w nawiasach kwadratowych metody TD(0) jest pewnego rodzaju *błędem* (*TD error*), który mierzy różnicę pomiędzy estymowaną wartością $S_t$ oraz lepszą, nową estymacją $R_{r+1}+\\gamma V(S_{t+1})$. Wiele algorytmów uczenia ze wzmocnieniem opartych jest na tej idei.\n",
    "\n",
    "![](img/td0-backup.png)\n",
    "Powyżej widzimy diagram dla metody TD(0). Wartość estymowana dla górnego stanu jest aktualizowana na podstawie jednej tranzycji do następnego stanu.\n",
    "\n",
    "#### Zalety\n",
    "\n",
    "- Nie wymagają modelu środowiska\n",
    "- Może je zaimplementować jako algorytm *online*, w pełni inkrementowalnym stylu."
   ]
  },
  {
   "cell_type": "markdown",
   "metadata": {
    "pycharm": {
     "name": "#%% md\n"
    }
   },
   "source": [
    "### SARSA\n",
    "SARSA jest algorytmem **on-policy** i należy do grupy metod sterowania TD.\n",
    "\n",
    "Jednak, zamiast uczyć się funkcji $V$, uczy się on funkcji $Q$ (funkcja action-value, która może być użyta przez agenta, kiedy nie ma on dostępu do macierzy przejść MDP).\n",
    "\n",
    "Pierwszym krokiem metody on-policy jest estymacja $q_\\pi(s,a)$ dla aktualnej strategii $\\pi$ dla wszystkich stanów $s$ i akcji $a$. Możemy tego dokonać, wykorzystując metodę TD opisaną powyżej do uczenia się wartości $v_\\pi$.\n",
    "\n",
    "W poprzedniej sekcji rozważaliśmy tranzycję ze stanu do stanu i uczyliśmy się wartości stanów. Teraz będziemy rozpatrywać tranzycje z par stan-akcja do pary stan-akcja i będziemy się uczyć wartości $q_\\pi$.\n",
    "\n",
    "Aktualizacja wartości $Q$ jest następująca:\n",
    "$Q(S_t, A_t) \\leftarrow Q(S_t, A_t)+\\alpha[R_{r+1}+\\gamma Q(S_{t+1}, A_{t+1})-Q(S_t, A_t)]$\n",
    "\n",
    "Uwaga: jest ona dokonywana po każdej tranzycji ze stanu **nieterminalnego**.\n",
    "\n",
    "![](img/sarsa-backup.png)\n",
    "Powyżej przedstawiony jest diagram dla algorytmu SARSA.\n",
    "\n",
    "![](img/sarsa.png)"
   ]
  },
  {
   "cell_type": "markdown",
   "metadata": {
    "pycharm": {
     "name": "#%% md\n"
    }
   },
   "source": [
    "### Q-learning\n",
    "\n",
    "Jedną z przełomowych metod uczenia ze wzmocnieniem była metoda off-policy *Q-learning* (również oparta na idei TD).\n",
    "\n",
    "Formuła aktualizacji wartości $Q$:\n",
    "$Q(S_t, A_t) \\leftarrow Q(S_t, A_t)+\\alpha[R_{r+1}+\\gamma \\max_a Q(S_{t+1}, a)-Q(S_t, A_t)]$\n",
    "\n",
    "W tym przypadku uczona funkcja $Q$, bezpośrednio przybliża $q_*$, czyli optymalną funkcję action-value. Jest ona niezależna od strategii jaką kieruje się agent w środowisku (stąd off-policy)\n",
    "\n",
    "![](img/q-learning-backup.png)\n",
    "Jak widzimy z powyższego diagramu, do aktualizacji wartości $Q$ używamy $\\max$ nad wszystkimi możliwymi akcjami (w SARSA używaliśmy tej samej akcji, co agent wykonał w środowisku). To pokazuje, że używamy tak naprawdę dwóch strategii: jednej do zachowania agenta oraz drugiej do aktualizacji wartości $Q$.\n",
    "\n",
    "![](img/q-learning.png)"
   ]
  },
  {
   "cell_type": "markdown",
   "metadata": {
    "pycharm": {
     "name": "#%% md\n"
    }
   },
   "source": [
    "# Kod"
   ]
  },
  {
   "cell_type": "code",
   "execution_count": 1,
   "metadata": {
    "pycharm": {
     "name": "#%%\n"
    }
   },
   "outputs": [],
   "source": [
    "import gym\n",
    "import numpy as np"
   ]
  },
  {
   "cell_type": "markdown",
   "metadata": {
    "pycharm": {
     "name": "#%% md\n"
    }
   },
   "source": [
    "W tym zadaniu wykorzystamy środowisko [Taxi-v3](https://www.gymlibrary.dev/environments/toy_text/taxi/) z biblioteki Gym OpenAI."
   ]
  },
  {
   "cell_type": "markdown",
   "metadata": {
    "pycharm": {
     "name": "#%% md\n"
    }
   },
   "source": [
    "Zdefiniujmy strategię $\\epsilon-greedy$ do eksploracji środowiska."
   ]
  },
  {
   "cell_type": "code",
   "execution_count": 2,
   "metadata": {
    "pycharm": {
     "name": "#%%\n"
    }
   },
   "outputs": [
    {
     "name": "stderr",
     "output_type": "stream",
     "text": [
      "C:\\Users\\Basia\\anaconda3\\lib\\site-packages\\ipykernel\\ipkernel.py:287: DeprecationWarning: `should_run_async` will not call `transform_cell` automatically in the future. Please pass the result to `transformed_cell` argument and any exception that happen during thetransform in `preprocessing_exc_tuple` in IPython 7.17 and above.\n",
      "  and should_run_async(code)\n"
     ]
    }
   ],
   "source": [
    "def epsilon_greedy(Q, epsilon, n_actions, s, train=False):\n",
    "    if train or np.random.rand() < epsilon:\n",
    "        action = np.argmax(Q[s, :])\n",
    "    else:\n",
    "        action = np.random.randint(0, n_actions)\n",
    "    return action"
   ]
  },
  {
   "cell_type": "markdown",
   "metadata": {
    "pycharm": {
     "name": "#%% md\n"
    }
   },
   "source": [
    "Inicjalizacja wartości $Q$."
   ]
  },
  {
   "cell_type": "code",
   "execution_count": 3,
   "metadata": {
    "pycharm": {
     "name": "#%%\n"
    }
   },
   "outputs": [],
   "source": [
    "def init_q_values(s, a, type=\"ones\"):\n",
    "    if type == \"ones\":\n",
    "        return np.ones((s, a))\n",
    "    elif type == \"random\":\n",
    "        return np.random.random((s, a))\n",
    "    elif type == \"zeros\":\n",
    "        return np.zeros((s, a))"
   ]
  },
  {
   "cell_type": "markdown",
   "metadata": {
    "pycharm": {
     "name": "#%% md\n"
    }
   },
   "source": [
    "Implementacja algorytmu SARSA."
   ]
  },
  {
   "cell_type": "code",
   "execution_count": 4,
   "metadata": {
    "pycharm": {
     "name": "#%%\n"
    }
   },
   "outputs": [],
   "source": [
    "def sarsa(alpha, gamma, epsilon, episodes, max_steps):\n",
    "    env = gym.make('Taxi-v3')\n",
    "    n_states, n_actions = env.observation_space.n, env.action_space.n\n",
    "    Q = init_q_values(n_states, n_actions, type=\"ones\")\n",
    "    timestep_reward_sarsa = []\n",
    "    for episode in range(episodes):\n",
    "        total_reward = 0\n",
    "        s = env.reset()\n",
    "        a = epsilon_greedy(Q, epsilon, n_actions, s)\n",
    "        t = 0\n",
    "        while t < max_steps:\n",
    "            t += 1\n",
    "            s_, reward, done, info = env.step(a)\n",
    "            total_reward += reward\n",
    "            a_ = epsilon_greedy(Q, epsilon, n_actions, s_)\n",
    "            \n",
    "            Q[s, a] += alpha * ( reward + (gamma * Q[s_, a_] ) - Q[s, a] )\n",
    "            s, a = s_, a_\n",
    "            \n",
    "            if done:\n",
    "                timestep_reward_sarsa.append(total_reward)\n",
    "                break\n",
    "    return timestep_reward_sarsa, Q"
   ]
  },
  {
   "cell_type": "markdown",
   "metadata": {
    "pycharm": {
     "name": "#%% md\n"
    }
   },
   "source": [
    "Uruchomienie SARSA."
   ]
  },
  {
   "cell_type": "code",
   "execution_count": 5,
   "metadata": {
    "pycharm": {
     "name": "#%%\n"
    }
   },
   "outputs": [
    {
     "name": "stdout",
     "output_type": "stream",
     "text": [
      "[-677, -713, -614, -632, -740, -659, -650, -677, -668, -596, -677, -308, -533, -596, -376, -722, -668, -704, -407, -407, -301, -272, -398, -259, -641, -227, -290, -488, -335, -156, -110, -245, -37, -197, -263, -749, -578, -515, -353, -290, -21, -272, -632, -263, -371, -281, -114, -131, -407, -264, -767, -632, -281, -299, -290, -245, -317, -371, -416, -281, -317, -12, -335, -55, -193, -299, -13, -236, -181, -199, -299, -272, 11, -605, -131, -236, -281, -75, -143, -254, -75, -198, -96, -37, -227, -290, -165, -184, -254, -245, -256, -317, -245, -135, -88, -272, 5, -308, -236, -254, -33, -88, -30, -290, -78, -272, -263, -236, -389, -116, -40, -66, -91, -81, -251, 13, -148, -53, -38, -152, -235, -263, -125, -149, -30, -234, 4, -193, -15, -165, -236, -84, -194, -290, -119, -335, -42, -26, -58, -171, -85, -51, -64, -5, -120, -204, -190, -156, -45, -124, -272, -10, -121, -206, -54, -84, -76, -173, -119, -156, -362, -171, -114, 15, -106, -50, 10, -81, -148, -229, -84, -230, -56, -110, -117, -25, 11, -143, -149, -99, -299, -22, -51, -10, -294, -142, -342, -193, 4, -120, -26, -109, 5, 10, -104, -140, -77, -64, -67, -31, -170, -10, -67, -260, -9, 5, 11, -39, -59, -12, 5, -22, 5, -58, -109, 10, 9, 1, 8, -160, -49, -135, 10, -116, -71, -12, 14, -245, -197, -124, -104, -15, -31, -17, -117, -128, -2, -16, -48, -93, 11, -50, 10, 7, -329, 2, -95, 10, -58, -339, 6, -67, 4, -73, 11, 3, -13, 4, 11, -255, -76, -26, -80, -8, 13, 13, -167, 9, -12, -94, -4, -134, -38, -49, -13, -10, 4, -11, -12, -43, -47, -89, -41, -55, 10, -35, -16, -22, -17, -25, 8, -41, 8, -65, -53, -6, -63, -1, 1, -44, -1, -8, 6, 12, 7, 7, 11, -6, -28, -17, -1, -86, -82, 6, 11, 6, 8, -10, -240, 7, -7, -11, -112, -52, -116, -20, 10, -33, -13, -32, -85, -42, -9, 3, -43, -51, 8, -3, -75, 0, 3, 4, -18, -29, 5, -28, -71, 15, -20, 1, 11, 8, 4, -61, -9, -5, -96, -25, 8, -115, 6, -52, -6, -42, -227, -12, -5, 7, -1, 11, 7, 7, -87, -36, -5, 7, 9, 12, -1, -35, 6, 7, -9, 9, -28, -51, 2, 9, 12, 13, -9, -135, -10, -95, -12, -77, -16, 8, -163, 2, -20, 11, -1, 9, 2, -30, 7, -26, 13, -14, -31, 3, 13, -129, -13, 10, 5, -11, -67, -3, 14, 11, -92, -71, -19, 13, -18, -181, 6, -45, 7, 3, -5, -14, 0, -119, 5, 3, 6, -17, 10, -62, -27, 11, 1, -5, 3, -17, -24, 2, 7, -93, 11, 6, -45, 1, 3, -12, -68, -10, -5, -56, 3, 2, -58, 0, -23, -12, -40, -15, 10, 2, -49, -9, 11, 5, 6, -45, -8, 2, 8, -49, 9, 8, -3, 10, 9, -3, 8, -3, 2, -28, 8, -23, 8, 7, -10, -27, 3, -6, 4, 10, -1, 8, -35, -3, 11, 10, 10, 5, -30, 3, 12, -4, -13, -5, -2, -5, -6, -5, 13, -12, 0, 8, -2, 12, 11, 7, -9, 6, 5, 9, 8, 7, -15, 4, 9, 7, 10, -5, 7, 6, -4, 13, 7, 9, -17, 8, -5, -11, -2, -9, 4, 7, 9, -14, 4, 6, -6, -70, -3, -19, -45, 11, 0, 11, -20, -34, -12, -14, -1, -26, -29, -8, -49, 11, 13, 6, 9, 6, 2, -9, -13, -37, -7, 7, 6, -12, -12, 3, 9, 13, 3, 10, 4, -75, 7, 6, 6, 9, 13, -53, -3, -2, 0, 0, -3, 0, -3, -20, -21, -41, 8, 8, -23, 5, 10, -20, 10, 8, -43, -6, 0, 3, -21, 7, 9, -5, 5, 8, 10, 10, -13, 11, 8, -26, 10, 11, -3, 6, 9, -9, -18, 3, -19, 8, 7, 1, 10, -19, -5, 11, 10, 9, -10, 7, 9, -3, 4, 11, 5, 7, -12, -9, 6, 13, -5, 7, 11, 6, 7, 6, -1, 1, 9, -2, 11, 1, 2, -3, 2, 8, -1, 6, -2, -3, -27, -26, 7, 3, -9, 10, -1, 7, 9, 8, -2, 9, -26, -5, 0, -9, 10, 7, -49, -82, -7, 11, 12, 5, 0, 5, -4, 6, 5, 7, -9, -3, -11, -8, 8, 5, 4, 0, -20, 7, 10, 6, 5, -3, 10, -11, -5, 6, 11, 12, 6, 1, 5, 5, -16, -6, 1, 4, -5, -5, -14, 3, 11, 12, 4, -2, -9, -15, -4, -42, -9, -1, 9, 9, 6, 6, 5, 8, 6, 12, -16, -5, 4, 8, 5, 7, 6, -2, 9, 10, 7, 11, -11, -31, 0, 7, -14, -62, -1, 11, -6, 8, -3, -6, 5, -25, 11, 6, -3, -28, 9, -4, 6, 6, -8, 5, 9, 10, -15, 10, 5, 0, -19, 10, 1, -1, 6, -1, -4, 9, 3, 6, 4, 6, 2, -20, 6, 11, 9, 10, -3, 7, -4, 10, 12, -3, -8, 5, -14, 8, 11, 7, -3, 7, -2, 12, -4, 14, 5, 5, 2, -16, -6, 7, -8, -4, 4, -4, 7, 6, -5, 4, -5, 5, 12, 0, 7, -9, 3, 14, 7, 4, 6, 8, -4, 7, 13, -9, -3, -73, 9, 10, -18, 6, 7, -7, 8, -1, 5, 3, 4, 7, 4, -10, 5, -4, 12, -7, -31, 10, 0, 6, -9, -4, 10, -49, 4, 7, -4, 11, 1, 1, 8, 4, -25, 11, -35, 7, -22, 10, 11, 7, 7, 9, 0, -9, -12, -6, -3, 4, -3, 8, 7, 0, 5, 8, -9, -1, 2, 8, -8, 10, -7, -3, 5, 3, -24, 2, -4, -1, 7, 5, -6, 7, 2, 4, 7, 9, 4, 6, 4, 10, -5, 5, -24, 11, -7, 5, -2, 9, -20, 12, -4, 11, -16, -1, -5, -5, -5, -2, 6, -1, 13, 8, 7, 12, -8, 6, 4, -2, 1, 3, -10, 4, 6, 10, 3, 11, 9, 4, 4, 11, 13, -8]\n"
     ]
    }
   ],
   "source": [
    "alpha = 0.4\n",
    "gamma = 0.999\n",
    "epsilon = 0.9\n",
    "episodes = 1000\n",
    "max_steps = 2500\n",
    "timestep_reward_sarsa, Qsarsa = sarsa(alpha, gamma, epsilon, episodes, max_steps)\n",
    "print(timestep_reward_sarsa)"
   ]
  },
  {
   "cell_type": "markdown",
   "metadata": {
    "pycharm": {
     "name": "#%% md\n"
    }
   },
   "source": [
    "Implementacja algorytmu Q-learning."
   ]
  },
  {
   "cell_type": "code",
   "execution_count": 6,
   "metadata": {
    "pycharm": {
     "name": "#%%\n"
    }
   },
   "outputs": [],
   "source": [
    "def qlearning(alpha, gamma, epsilon, episodes, max_steps):\n",
    "    env = gym.make('Taxi-v3')\n",
    "    n_states, n_actions = env.observation_space.n, env.action_space.n\n",
    "    Q = init_q_values(n_states, n_actions, type=\"ones\")\n",
    "    timestep_reward_qlearning = []\n",
    "    for episode in range(episodes):\n",
    "        s = env.reset()\n",
    "        a = epsilon_greedy(Q, epsilon, n_actions, s)\n",
    "        t = 0\n",
    "        total_reward = 0\n",
    "        while t < max_steps:\n",
    "            t += 1\n",
    "            s_, reward, done, info = env.step(a)\n",
    "            total_reward += reward\n",
    "            a_ = np.argmax(Q[s_, :])\n",
    "            \n",
    "            Q[s, a] += alpha * ( reward + (gamma * Q[s_, a_]) - Q[s, a] )\n",
    "            s, a = s_, a_\n",
    "\n",
    "            if done:\n",
    "                timestep_reward_qlearning.append(total_reward)\n",
    "                break\n",
    "    return timestep_reward_qlearning, Q"
   ]
  },
  {
   "cell_type": "markdown",
   "metadata": {
    "pycharm": {
     "name": "#%% md\n"
    }
   },
   "source": [
    "Uruchomienie Q-learning"
   ]
  },
  {
   "cell_type": "code",
   "execution_count": 7,
   "metadata": {
    "pycharm": {
     "name": "#%%\n"
    }
   },
   "outputs": [
    {
     "name": "stdout",
     "output_type": "stream",
     "text": [
      "[-740, -776, -767, -740, -740, -560, -560, -650, -758, -776, -668, -515, -520, -200, -524, -650, -524, -344, -461, -428, -126, -740, -542, -596, -722, -506, -614, -453, -236, -200, -200, -254, -290, -200, -200, -153, -143, -848, -54, -884, -236, -794, -416, -208, -200, -200, -117, -344, -488, -200, -200, -200, -250, -200, -32, -200, -182, -160, -159, -63, -200, -200, -200, -64, -200, -123, -200, -200, -3, -99, -118, -48, -200, -82, -200, -200, -29, -200, -57, -84, -200, -112, -152, -96, -6, -17, -200, -209, -106, -49, -92, -138, -326, -128, -141, -113, -62, -154, -61, -30, -27, -253, -126, -114, -88, -158, -3, -200, -147, -103, -150, 0, 0, -112, -200, -151, -429, -93, -21, -117, -41, -24, -107, -134, -55, -39, -83, -8, -200, -19, -200, -70, -70, -141, -90, -90, -158, -128, -59, -91, -196, 10, -134, -23, -96, -12, -77, -61, -32, 6, -63, -232, -53, -121, -75, -46, -48, -293, -11, -63, -57, -10, -397, -124, -45, -41, -148, -195, 11, 10, -539, -179, -58, -352, 10, -46, 11, 9, -318, -119, -8, -28, -52, -10, -74, -69, 10, 15, -231, 8, -14, -549, -125, -11, 10, 10, -55, 11, 6, 11, 14, 10, -177, -73, 10, -49, -39, -55, -129, 9, -57, -326, 11, -16, -34, -101, -95, 12, -13, -12, 0, 6, 3, 7, -59, -40, -419, -166, -22, 1, -48, -162, -16, -7, -53, -62, 10, -65, -106, 4, -54, 5, -218, 11, 9, -22, -59, 3, 11, -26, 6, -141, -17, 3, -2, -21, -123, -20, -32, 1, -1, -10, -37, 9, 12, -16, 6, -301, -12, 11, -8, -21, 1, 9, -23, 11, 10, 11, 7, 13, -45, -39, 15, -3, 10, 1, -43, -34, -7, -33, -36, -35, -11, -12, -85, 8, -1, -2, 14, 14, -23, -11, 8, 8, -10, 12, 8, -30, 3, -33, -16, -87, -136, -10, 11, -32, -10, -18, 9, -289, 10, -99, -68, -16, 10, 10, 5, -10, 7, 5, 12, 0, 7, -61, 10, 9, 11, 6, 10, -2, 5, -12, 12, 4, -8, -50, 10, 4, 10, 12, 1, 9, -13, -2, 8, -6, 1, 1, 8, 12, 9, 8, 8, 10, 8, -5, 0, -17, 0, 9, -15, -3, 0, 8, -3, 3, 9, -3, -8, -109, 10, -98, 12, 3, 11, 5, 10, 6, 8, 8, 7, 12, 4, 5, 2, 13, -15, 2, 6, 11, 10, 1, 1, -5, 11, 7, 9, -22, 2, 7, 10, 14, 10, 6, 15, 9, 7, 6, 8, -56, 11, 9, -1, 5, 5, -4, 10, 4, -61, -5, -20, 7, 8, 8, 14, -14, -15, 5, 13, 14, 10, 1, 7, 8, -50, 11, -2, 6, 8, 11, -12, 8, 3, 12, 7, 5, 5, 4, 10, -3, 3, 6, 12, 5, -2, 7, 4, 8, -14, 6, 11, 12, 11, 9, 10, 7, 9, 8, 6, -3, 11, 7, -10, 5, -1, 2, 8, 9, -3, -37, -7, 9, 11, 6, -3, 9, 10, 11, 8, 11, 7, 11, 10, 10, 9, 7, 9, 2, 7, 5, -1, 7, 9, 2, 11, -95, 8, 6, 14, 7, -3, 5, -4, 9, -2, -5, 10, 5, 2, -78, 9, 2, 12, 8, 10, 11, 7, 11, 4, 6, 7, 11, 5, 10, 11, 1, 3, 1, 6, 9, 12, 8, 7, 3, 14, 9, 10, 8, 8, 8, 1, -4, 9, 4, 6, 11, 9, -3, 10, 4, -6, 5, 9, 7, 9, 11, 5, 0, 6, 7, -10, 7, 9, 4, 3, 5, 12, 9, 9, 3, 8, 9, 2, 11, 8, 11, 4, 11, 7, 15, 5, 0, 7, 10, 11, 6, 3, 7, 9, 15, 7, 2, -3, 13, 9, 8, 8, 1, 8, 10, 9, 15, 7, 9, 7, 11, 8, 8, 4, 8, 4, -9, 8, 11, 5, 8, 8, 9, 10, 6, -3, 9, 2, -13, 3, 9, 9, -14, 9, 5, 11, 5, 6, 7, 4, -5, 10, 6, 4, -13, 5, 7, 7, 12, 4, 9, 6, 10, 6, 7, 9, 6, 11, 9, 10, 9, 10, -12, 14, 6, -3, 1, 15, -3, -6, 8, 1, 8, 8, 13, 9, 13, 10, 9, 9, 7, 12, 6, 10, 6, 9, 7, 10, 7, 9, 9, 9, 10, 14, -2, 9, 7, 6, 8, 10, 4, 6, 6, 4, 8, 2, 0, 9, 9, 6, 9, 11, 12, 8, 9, 6, 0, 0, 14, 10, 4, 4, 3, 7, 4, 7, 5, 6, 4, 8, 12, 9, 11, 3, 5, 12, -2, 4, 8, 3, 5, 2, 9, 9, 10, 4, 12, 5, 10, 6, 7, 12, 6, 7, 6, 5, 4, 12, 9, 8, 6, 7, 5, 9, 1, 10, 3, 1, 11, 4, 3, -15, 3, 9, 12, 9, 5, 5, 10, 5, 5, 7, 12, 9, 3, 6, 13, 4, 5, 4, 11, 5, 10, 11, 10, 11, 8, 7, 13, 11, 5, 9, 8, 8, 5, 9, 2, 11, 10, 7, 11, 10, 1, 7, 5, 5, 10, 12, 6, 8, 7, 9, 6, 5, 4, 11, 8, 4, 2, 3, -4, 9, 8, 5, 5, 9, 10, 7, 8, 8, 8, 5, 12, 4, 7, 9, 5, 9, 9, 8, 9, 9, 13, 7, 10, 3, 5, 7, 10, -20, 8, 6, 8, 10, 14, 6, 5, 6, 7, 8, 10, 9, 6, 10, 6, 5, 3, -2, 4, 9, 11, 8, 5, 6, 8, 10, 1, 5, 10, 5, 4, 6, 5, 4, 11, 10, 9, 5, 5, 10, 9, 9, 4, 4, 9, 4, 1, 7, 7, 6, 9, 9, 7, 11, 6, 11, 3, 6, 7, 3, 7, 11, 5, 8, 8, 8, 7, 12, 6, 6, 7, 7, 9, 7, 7, 6, 10, 5, -16, 9, 11, 8, 4, 7, 9, 8, 15, 9, 7, 6, 6, 9, 9, 8, 7, 11, 5, 7, 9, 6, 9, 14, 7, 8, 3, 10, 4, 7, 7, 9, 7, 9, 5, 4, 6, 3, 12, 9, 6, 10, 6, 12, 9, 9, 8]\n"
     ]
    }
   ],
   "source": [
    "alpha = 0.4\n",
    "gamma = 0.999\n",
    "epsilon = 0.9\n",
    "episodes = 1000\n",
    "max_steps = 2500\n",
    "timestep_reward_qlearning, Qlearn = qlearning(alpha, gamma, epsilon, episodes, max_steps)\n",
    "print(timestep_reward_qlearning)"
   ]
  },
  {
   "cell_type": "markdown",
   "metadata": {},
   "source": [
    "Zad 2"
   ]
  },
  {
   "cell_type": "code",
   "execution_count": 8,
   "metadata": {},
   "outputs": [],
   "source": [
    "def test_agent(Q, number_of_tests, render):\n",
    "    env = gym.make('Taxi-v3')\n",
    "    n_states, n_actions = env.observation_space.n, env.action_space.n\n",
    "    result = dict.fromkeys(range(number_of_tests))\n",
    "    for test in range(number_of_tests):\n",
    "        result[test] = [0,0]\n",
    "        s = env.reset()\n",
    "        done = False\n",
    "        while not done:\n",
    "            if render:\n",
    "                env.render()\n",
    "            a = epsilon_greedy(Q, epsilon, n_actions, s, train=False)\n",
    "            tmp_s = s\n",
    "            s, reward, done, info = env.step(a)\n",
    "\n",
    "            if s == tmp_s and reward < 0:\n",
    "                result[test][1] += 1\n",
    "            result[test][0] += reward\n",
    "    return result"
   ]
  },
  {
   "cell_type": "code",
   "execution_count": 9,
   "metadata": {},
   "outputs": [
    {
     "data": {
      "text/plain": [
       "{0: [-3, 1],\n",
       " 1: [-6, 2],\n",
       " 2: [8, 0],\n",
       " 3: [6, 0],\n",
       " 4: [-10, 2],\n",
       " 5: [-1, 2],\n",
       " 6: [-64, 47],\n",
       " 7: [-13, 20],\n",
       " 8: [-10, 18],\n",
       " 9: [-15, 2],\n",
       " 10: [5, 0],\n",
       " 11: [-23, 5],\n",
       " 12: [2, 0],\n",
       " 13: [-10, 1],\n",
       " 14: [8, 1],\n",
       " 15: [-2, 1],\n",
       " 16: [11, 1],\n",
       " 17: [-272, 185],\n",
       " 18: [-5, 1],\n",
       " 19: [7, 0],\n",
       " 20: [-6, 10],\n",
       " 21: [-1, 1],\n",
       " 22: [-26, 12],\n",
       " 23: [6, 0],\n",
       " 24: [7, 0],\n",
       " 25: [-5, 1],\n",
       " 26: [-5, 1],\n",
       " 27: [-1, 1],\n",
       " 28: [12, 0],\n",
       " 29: [7, 0],\n",
       " 30: [-6, 10],\n",
       " 31: [7, 0],\n",
       " 32: [4, 0],\n",
       " 33: [11, 1],\n",
       " 34: [8, 0],\n",
       " 35: [-16, 2],\n",
       " 36: [-218, 192],\n",
       " 37: [8, 1],\n",
       " 38: [9, 0],\n",
       " 39: [-110, 37],\n",
       " 40: [-17, 12],\n",
       " 41: [10, 0],\n",
       " 42: [12, 0],\n",
       " 43: [8, 0],\n",
       " 44: [-48, 52],\n",
       " 45: [-120, 113],\n",
       " 46: [1, 0],\n",
       " 47: [7, 1],\n",
       " 48: [11, 0],\n",
       " 49: [12, 0],\n",
       " 50: [8, 0],\n",
       " 51: [-30, 27],\n",
       " 52: [-2, 2],\n",
       " 53: [8, 0],\n",
       " 54: [10, 0],\n",
       " 55: [-64, 42],\n",
       " 56: [-50, 38],\n",
       " 57: [-137, 112],\n",
       " 58: [13, 0],\n",
       " 59: [1, 1],\n",
       " 60: [9, 0],\n",
       " 61: [9, 1],\n",
       " 62: [7, 1],\n",
       " 63: [2, 0],\n",
       " 64: [9, 0],\n",
       " 65: [-4, 1],\n",
       " 66: [1, 1],\n",
       " 67: [4, 0],\n",
       " 68: [-5, 11],\n",
       " 69: [-81, 58],\n",
       " 70: [9, 0],\n",
       " 71: [7, 0],\n",
       " 72: [-11, 2],\n",
       " 73: [0, 1],\n",
       " 74: [-10, 2],\n",
       " 75: [-77, 57],\n",
       " 76: [-69, 57],\n",
       " 77: [6, 0],\n",
       " 78: [0, 0],\n",
       " 79: [-2, 1],\n",
       " 80: [3, 0],\n",
       " 81: [6, 0],\n",
       " 82: [7, 0],\n",
       " 83: [10, 0],\n",
       " 84: [-5, 2],\n",
       " 85: [-5, 1],\n",
       " 86: [11, 0],\n",
       " 87: [7, 0],\n",
       " 88: [8, 0],\n",
       " 89: [-1, 1],\n",
       " 90: [-11, 2],\n",
       " 91: [-2, 1],\n",
       " 92: [7, 0],\n",
       " 93: [-102, 101],\n",
       " 94: [12, 1],\n",
       " 95: [7, 1],\n",
       " 96: [-11, 2],\n",
       " 97: [12, 0],\n",
       " 98: [-9, 1],\n",
       " 99: [7, 0]}"
      ]
     },
     "execution_count": 9,
     "metadata": {},
     "output_type": "execute_result"
    }
   ],
   "source": [
    "# w pierwszym elemencie tablicy jest wynik a w drugim\n",
    "# liczba popełnionych niedozwolonych ruchów\n",
    "\n",
    "# ustawienie zmiennej render na True, spowoduje odpalenie się wizualizacji symulacji.\n",
    "# ustawienie zmiennej render na False, spowoduje uruchomienie symulacji bez wizualizacji\n",
    "test_agent(Qsarsa, 100, False)"
   ]
  },
  {
   "cell_type": "code",
   "execution_count": 10,
   "metadata": {},
   "outputs": [
    {
     "data": {
      "text/plain": [
       "{0: [-1, 1],\n",
       " 1: [-20, 4],\n",
       " 2: [-6, 2],\n",
       " 3: [-13, 2],\n",
       " 4: [8, 0],\n",
       " 5: [-46, 49],\n",
       " 6: [4, 1],\n",
       " 7: [8, 1],\n",
       " 8: [4, 0],\n",
       " 9: [4, 0],\n",
       " 10: [5, 0],\n",
       " 11: [9, 0],\n",
       " 12: [-5, 2],\n",
       " 13: [-3, 1],\n",
       " 14: [-7, 18],\n",
       " 15: [6, 1],\n",
       " 16: [4, 0],\n",
       " 17: [2, 1],\n",
       " 18: [9, 0],\n",
       " 19: [11, 0],\n",
       " 20: [-50, 39],\n",
       " 21: [4, 0],\n",
       " 22: [-10, 6],\n",
       " 23: [-199, 42],\n",
       " 24: [12, 0],\n",
       " 25: [11, 0],\n",
       " 26: [9, 0],\n",
       " 27: [7, 0],\n",
       " 28: [6, 0],\n",
       " 29: [-3, 1],\n",
       " 30: [9, 0],\n",
       " 31: [-107, 12],\n",
       " 32: [9, 0],\n",
       " 33: [1, 1],\n",
       " 34: [10, 0],\n",
       " 35: [-5, 1],\n",
       " 36: [4, 2],\n",
       " 37: [6, 0],\n",
       " 38: [6, 0],\n",
       " 39: [-5, 2],\n",
       " 40: [-3, 1],\n",
       " 41: [-179, 43],\n",
       " 42: [8, 1],\n",
       " 43: [-5, 2],\n",
       " 44: [-3, 2],\n",
       " 45: [-23, 4],\n",
       " 46: [0, 1],\n",
       " 47: [-6, 1],\n",
       " 48: [10, 0],\n",
       " 49: [-4, 1],\n",
       " 50: [7, 1],\n",
       " 51: [-9, 4],\n",
       " 52: [7, 0],\n",
       " 53: [2, 0],\n",
       " 54: [8, 0],\n",
       " 55: [8, 0],\n",
       " 56: [-14, 2],\n",
       " 57: [-78, 60],\n",
       " 58: [0, 1],\n",
       " 59: [5, 0],\n",
       " 60: [5, 0],\n",
       " 61: [2, 2],\n",
       " 62: [11, 0],\n",
       " 63: [-5, 1],\n",
       " 64: [3, 0],\n",
       " 65: [2, 0],\n",
       " 66: [14, 0],\n",
       " 67: [-4, 1],\n",
       " 68: [11, 0],\n",
       " 69: [4, 1],\n",
       " 70: [5, 0],\n",
       " 71: [3, 0],\n",
       " 72: [-8, 1],\n",
       " 73: [7, 1],\n",
       " 74: [0, 1],\n",
       " 75: [8, 1],\n",
       " 76: [8, 1],\n",
       " 77: [0, 1],\n",
       " 78: [5, 0],\n",
       " 79: [5, 1],\n",
       " 80: [8, 0],\n",
       " 81: [11, 0],\n",
       " 82: [6, 0],\n",
       " 83: [10, 0],\n",
       " 84: [-154, 16],\n",
       " 85: [-10, 1],\n",
       " 86: [5, 0],\n",
       " 87: [11, 0],\n",
       " 88: [-2, 1],\n",
       " 89: [8, 0],\n",
       " 90: [5, 0],\n",
       " 91: [5, 0],\n",
       " 92: [4, 0],\n",
       " 93: [6, 0],\n",
       " 94: [3, 1],\n",
       " 95: [-1, 1],\n",
       " 96: [-6, 1],\n",
       " 97: [8, 0],\n",
       " 98: [8, 0],\n",
       " 99: [11, 0]}"
      ]
     },
     "execution_count": 10,
     "metadata": {},
     "output_type": "execute_result"
    }
   ],
   "source": [
    "# ustawienie zmiennej render na True, spowoduje odpalenie się wizualizacji symulacji.\n",
    "# ustawienie zmiennej render na False, spowoduje uruchomienie symulacji bez wizualizacji\n",
    "test_agent(Qlearn, 100, False)"
   ]
  },
  {
   "cell_type": "markdown",
   "metadata": {},
   "source": [
    "Czy można wytrenować agenta w ten sposób, aby nie popełnił błędu w żadnym z epizodów? <br>\n",
    "<br>\n",
    "Wydaje mi się, że można wytrenować agenta w ten sposób, aby nie popełnił błędu w żadnym z epizodów. Skoro środowisko agenta się nie zmienia, to w końcu nauczy się po n iteracjach obierać optymalne trasy, co zredukuje liczbę błędów do zera."
   ]
  },
  {
   "cell_type": "markdown",
   "metadata": {},
   "source": [
    "Zad 3"
   ]
  },
  {
   "cell_type": "code",
   "execution_count": 11,
   "metadata": {},
   "outputs": [
    {
     "data": {
      "text/plain": [
       "<matplotlib.legend.Legend at 0x1be24ea89d0>"
      ]
     },
     "execution_count": 11,
     "metadata": {},
     "output_type": "execute_result"
    },
    {
     "data": {
      "image/png": "[encoded data removed]",
      "text/plain": [
       "<Figure size 432x288 with 1 Axes>"
      ]
     },
     "metadata": {
      "needs_background": "light"
     },
     "output_type": "display_data"
    }
   ],
   "source": [
    "import matplotlib.pyplot as plt\n",
    "X = list(range(len(timestep_reward_sarsa)))\n",
    "Y = list(range(len(timestep_reward_qlearning)))\n",
    "\n",
    "plt.plot(X, timestep_reward_sarsa, label='sarsa')\n",
    "plt.plot(X, timestep_reward_qlearning, label='q-learning')\n",
    "\n",
    "plt.xlabel('Episodes')\n",
    "plt.ylabel('Sum of rewards during episode')\n",
    "\n",
    "plt.legend()"
   ]
  },
  {
   "cell_type": "markdown",
   "metadata": {
    "pycharm": {
     "name": "#%% md\n"
    }
   },
   "source": [
    "# Zadanie\n",
    "\n",
    "1. Uzupełnij puste miejsca w kodzie dla algorytmu SARSA oraz Q-learning.\n",
    "2. Napisz metodę, która będzie oceniała zachowanie agenta. Pokaż wizualnie, jak zachowuje się agent, używając wyuczonej strategii (użyj `env.render()`). Dodatkowo dokonaj ewaluacji swojego agenta na przestrzeni 100 epizodów - ile razy popełnił błąd (wykonał akcję zabronioną)? Czy można wytrenować agenta w ten sposób, aby nie popełnił błędu w żadnym z epizodów?\n",
    "3. Pokaż wykres, który wizualizuje proces uczenia się agenta. Innymi słowy, pokaż całkowitą nagrodę, jaką osiągnął agent za każdy epizod uczenia. Przedstaw na jednym wykresie wyniki dla obu algorytmów."
   ]
  },
  {
   "cell_type": "markdown",
   "metadata": {
    "pycharm": {
     "name": "#%% md\n"
    }
   },
   "source": [
    "## Materiały\n",
    "\n",
    "- [RL Course by David Silver - Lecture 5: Model Free Control](https://www.youtube.com/watch?v=0g4j2k_Ggc4&list=PLzuuYNsE1EZAXYR4FJ75jcJseBmo4KQ9-&index=9)\n",
    "- Sutton, Barto - Chapter 6"
   ]
  }
 ],
 "metadata": {
  "kernelspec": {
   "display_name": "Python 3",
   "language": "python",
   "name": "python3"
  },
  "language_info": {
   "codemirror_mode": {
    "name": "ipython",
    "version": 3
   },
   "file_extension": ".py",
   "mimetype": "text/x-python",
   "name": "python",
   "nbconvert_exporter": "python",
   "pygments_lexer": "ipython3",
   "version": "3.8.8"
  }
 },
 "nbformat": 4,
 "nbformat_minor": 1
}
