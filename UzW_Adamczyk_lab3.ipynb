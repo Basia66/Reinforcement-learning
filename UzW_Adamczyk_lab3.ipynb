{
 "cells": [
  {
   "cell_type": "markdown",
   "metadata": {
    "pycharm": {
     "name": "#%% md\n"
    }
   },
   "source": [
    "## MDP - Proces Decyzyjny Markowa\n",
    "\n",
    "MDP jest procesem nagród Markowa (MRP) z dodanymi decyzjami, które mają wpływ na prawdopodobieństwa przejść. Charakteryzowany jest przez piątkę〈S, A, P, R, y〉, gdzie:\n",
    "- S - zbiór stanów\n",
    "- A - zbiór akcji\n",
    "- P - macierz przejść\n",
    "- R - funkcja nagrody\n",
    "- współczynnik dyskontowania y\n",
    "\n",
    "![](img/mdp.png)"
   ]
  },
  {
   "cell_type": "markdown",
   "metadata": {
    "pycharm": {
     "name": "#%% md\n"
    }
   },
   "source": [
    "Celem w MDP jest znalezienie strategii (policy), która maksymalizuje oczekiwaną sumę nagród.\n",
    "Strategia mówi agentowi, jaką akcję (lub akcje) podjąć w danym stanie.\n",
    "Bardziej formalnie, strategia jest rozkładem prawdopodobieństwa akcji dla danego stanu:\n",
    "![](img/policy_1.png)"
   ]
  },
  {
   "cell_type": "markdown",
   "metadata": {
    "pycharm": {
     "name": "#%% md\n"
    }
   },
   "source": [
    "### Funkcja wartości Stanu (State-value function)\n",
    "Funkcja ta jest zdefiniowana jako oczekiwana suma nagród, gdy rozpoczynamy w stanie S.\n",
    "Wartość funkcji stanu jest zdefiniowana **dla konkretnej strategii**. Zmiana strategii spowoduje zmianę wartości funkcji.\n",
    "![](img/sv_function.png)\n",
    "\n",
    "Równanie Bellman'a dla v_π:\n",
    "![](img/sv_function_bellman.png)\n"
   ]
  },
  {
   "cell_type": "markdown",
   "metadata": {
    "pycharm": {
     "name": "#%% md\n"
    }
   },
   "source": [
    "### Funkcja wartości Akcji (Action-value function)\n",
    "\n",
    "Załóżmy, że posiadamy strategię (nie koniecznie optymalną) oraz kierujemy się jej decyzjami. Mówi ona, jakie akcje podjąć w każdym ze stanów wraz z ich prawdopodobieństwami.\n",
    "Pytanie na jakie odpowiada funkcja wartości akcji to: **jaka będzie oczekiwana suma nagród jeżeli wybiorę akcję *a* w stanie *s* oraz będę dalej kierował się wybraną strategią?**\n",
    "\n",
    "![](img/av_function.png)"
   ]
  },
  {
   "cell_type": "markdown",
   "metadata": {
    "pycharm": {
     "name": "#%% md\n"
    }
   },
   "source": [
    "## Zadanie\n",
    "Dla wybranych trzech stanów ze środowiska z poprzednich zajęć ułóż przykładową (probabilistyczną) strategię.\n",
    "Następnie wyznacz wartości funkcji v_π oraz q_π (na podstawie wcześniej wyznaczonej v_π) dla zdefiniowanej strategii.\n",
    "Załóż, że wartości początkowe v_π mają wartości jak na poprzednich zajęciach (rysunek poniżej).\n",
    "![](img/avg_returns.png)"
   ]
  },
  {
   "cell_type": "code",
   "execution_count": 2,
   "metadata": {},
   "outputs": [],
   "source": [
    "# współczynnik dyskontowania\n",
    "gamma = 0.7\n",
    "\n",
    "# Wybrane stany [(2,0), (2,1), (2,2)]\n",
    "\n",
    "# Dane do zadania\n",
    "p_u = 0.15\n",
    "p_d = 0.35\n",
    "p_l = 0.20\n",
    "p_r = 0.30\n",
    "\n",
    "# Założenie, że agent zawsze idzie w tę stronę, w którą chce (100%)"
   ]
  },
  {
   "cell_type": "code",
   "execution_count": 7,
   "metadata": {},
   "outputs": [],
   "source": [
    "# góra, prawo, dół, lewo\n",
    "v_pi_2_0 = \\\n",
    "0.15 * (1 * (0 + gamma * 0) + 0 * (1 + gamma * 2.81) + 0 * (1 + gamma * 2.45) + 0 * (0 + gamma * 0)) + \\\n",
    "0.35 * (0 * (0 + gamma * 0) + 0 * (1 + gamma * 2.81) + 1 * (1 + gamma * 2.45) + 0 * (0 + gamma * 0)) + \\\n",
    "0.20 * (0 * (0 + gamma * 0) + 0 * (1 + gamma * 2.81) + 0 * (1 + gamma * 2.45) + 1 * (0 + gamma * 0)) + \\\n",
    "0.30 * (0 * (0 + gamma * 0) + 1 * (1 + gamma * 2.81) + 0 * (1 + gamma * 2.45) + 0 * (0 + gamma * 0))\n",
    "\n",
    "q_pi_2_0_p_u = 1 * (0 + gamma * 0) + 0 * (1 + gamma * 2.81) + 0 * (1 + gamma * 2.45) + 0 * (0 + gamma * 0)\n",
    "q_pi_2_0_p_d = 0 * (0 + gamma * 0) + 0 * (1 + gamma * 2.81) + 1 * (1 + gamma * 2.45) + 0 * (0 + gamma * 0)\n",
    "q_pi_2_0_p_l = 0 * (0 + gamma * 0) + 0 * (1 + gamma * 2.81) + 0 * (1 + gamma * 2.45) + 1 * (0 + gamma * 0)\n",
    "q_pi_2_0_p_r = 0 * (0 + gamma * 0) + 1 * (1 + gamma * 2.81) + 0 * (1 + gamma * 2.45) + 0 * (0 + gamma * 0)"
   ]
  },
  {
   "cell_type": "code",
   "execution_count": 8,
   "metadata": {},
   "outputs": [
    {
     "name": "stdout",
     "output_type": "stream",
     "text": [
      "1.84035\n"
     ]
    }
   ],
   "source": [
    "print(v_pi_2_0)"
   ]
  },
  {
   "cell_type": "code",
   "execution_count": 12,
   "metadata": {},
   "outputs": [
    {
     "name": "stdout",
     "output_type": "stream",
     "text": [
      "Q_PI UP: 0.0\n",
      "Q_PI DOWN: 2.715\n",
      "Q_PI LEFT: 0.0\n",
      "Q_PI RIGHT: 2.9669999999999996\n"
     ]
    }
   ],
   "source": [
    "print(\"Q_PI UP: \" + str(q_pi_2_0_p_u))\n",
    "print(\"Q_PI DOWN: \" + str(q_pi_2_0_p_d))\n",
    "print(\"Q_PI LEFT: \" + str(q_pi_2_0_p_l))\n",
    "print(\"Q_PI RIGHT: \" + str(q_pi_2_0_p_r))"
   ]
  },
  {
   "cell_type": "code",
   "execution_count": 13,
   "metadata": {},
   "outputs": [
    {
     "name": "stdout",
     "output_type": "stream",
     "text": [
      "1.84035\n"
     ]
    }
   ],
   "source": [
    "# sprawdzenie, czy poprawnie\n",
    "print(q_pi_2_0_p_u * 0.15 + q_pi_2_0_p_d * 0.35 + q_pi_2_0_p_l * 0.2 + q_pi_2_0_p_r * 0.3)"
   ]
  },
  {
   "cell_type": "code",
   "execution_count": 14,
   "metadata": {},
   "outputs": [],
   "source": [
    "v_pi_2_1 = \\\n",
    "0.15 * (1 * (0 + gamma * 0) + 0 * (1 + gamma * 1.99) + 0 * (1 + gamma * 3.41) + 0 * (1 + gamma * 2.00)) + \\\n",
    "0.35 * (0 * (0 + gamma * 0) + 0 * (1 + gamma * 1.99) + 1 * (1 + gamma * 3.41) + 0 * (1 + gamma * 2.00)) + \\\n",
    "0.20 * (0 * (0 + gamma * 0) + 0 * (1 + gamma * 1.99) + 0 * (1 + gamma * 3.41) + 1 * (1 + gamma * 2.00)) + \\\n",
    "0.30 * (0 * (0 + gamma * 0) + 1 * (1 + gamma * 1.99) + 0 * (1 + gamma * 3.41) + 0 * (1 + gamma * 2.00))\n",
    "\n",
    "q_pi_2_1_p_u = 1 * (0 + gamma * 0) + 0 * (1 + gamma * 1.99) + 0 * (1 + gamma * 3.41) + 0 * (1 + gamma * 2.00)\n",
    "q_pi_2_1_p_d = 0 * (0 + gamma * 0) + 0 * (1 + gamma * 1.99) + 1 * (1 + gamma * 3.41) + 0 * (1 + gamma * 2.00)\n",
    "q_pi_2_1_p_l = 0 * (0 + gamma * 0) + 0 * (1 + gamma * 1.99) + 0 * (1 + gamma * 3.41) + 1 * (1 + gamma * 2.00)\n",
    "q_pi_2_1_p_r = 0 * (0 + gamma * 0) + 1 * (1 + gamma * 1.99) + 0 * (1 + gamma * 3.41) + 0 * (1 + gamma * 2.00)"
   ]
  },
  {
   "cell_type": "code",
   "execution_count": 15,
   "metadata": {},
   "outputs": [
    {
     "name": "stdout",
     "output_type": "stream",
     "text": [
      "2.3833499999999996\n"
     ]
    }
   ],
   "source": [
    "print(v_pi_2_1)"
   ]
  },
  {
   "cell_type": "code",
   "execution_count": 16,
   "metadata": {},
   "outputs": [
    {
     "name": "stdout",
     "output_type": "stream",
     "text": [
      "Q_PI UP: 0.0\n",
      "Q_PI DOWN: 3.387\n",
      "Q_PI LEFT: 2.4\n",
      "Q_PI RIGHT: 2.393\n"
     ]
    }
   ],
   "source": [
    "print(\"Q_PI UP: \" + str(q_pi_2_1_p_u))\n",
    "print(\"Q_PI DOWN: \" + str(q_pi_2_1_p_d))\n",
    "print(\"Q_PI LEFT: \" + str(q_pi_2_1_p_l))\n",
    "print(\"Q_PI RIGHT: \" + str(q_pi_2_1_p_r))"
   ]
  },
  {
   "cell_type": "code",
   "execution_count": 17,
   "metadata": {},
   "outputs": [
    {
     "name": "stdout",
     "output_type": "stream",
     "text": [
      "2.3833499999999996\n"
     ]
    }
   ],
   "source": [
    "# sprawdzenie, czy poprawnie\n",
    "print(q_pi_2_1_p_u * 0.15 + q_pi_2_1_p_d * 0.35 + q_pi_2_1_p_l * 0.2 + q_pi_2_1_p_r * 0.3)"
   ]
  },
  {
   "cell_type": "code",
   "execution_count": 19,
   "metadata": {},
   "outputs": [],
   "source": [
    "v_pi_2_2 = \\\n",
    "0.15 * (1 * (0 + gamma * 0) + 0 * (0 + gamma * 0) + 0 * (1 + gamma * 2.44) + 0 * (1 + gamma * 2.81)) + \\\n",
    "0.35 * (0 * (0 + gamma * 0) + 0 * (0 + gamma * 0) + 1 * (1 + gamma * 2.44) + 0 * (1 + gamma * 2.81)) + \\\n",
    "0.20 * (0 * (0 + gamma * 0) + 0 * (0 + gamma * 0) + 0 * (1 + gamma * 2.44) + 1 * (1 + gamma * 2.81)) + \\\n",
    "0.30 * (0 * (0 + gamma * 0) + 1 * (0 + gamma * 0) + 0 * (1 + gamma * 2.44) + 0 * (1 + gamma * 2.81))\n",
    "\n",
    "q_pi_2_2_p_u = 1 * (0 + gamma * 0) + 0 * (0 + gamma * 0) + 0 * (1 + gamma * 2.44) + 0 * (1 + gamma * 2.81)\n",
    "q_pi_2_2_p_d = 0 * (0 + gamma * 0) + 0 * (0 + gamma * 0) + 1 * (1 + gamma * 2.44) + 0 * (1 + gamma * 2.81)\n",
    "q_pi_2_2_p_l = 0 * (0 + gamma * 0) + 0 * (0 + gamma * 0) + 0 * (1 + gamma * 2.44) + 1 * (1 + gamma * 2.81)\n",
    "q_pi_2_2_p_r = 0 * (0 + gamma * 0) + 1 * (0 + gamma * 0) + 0 * (1 + gamma * 2.44) + 0 * (1 + gamma * 2.81)"
   ]
  },
  {
   "cell_type": "code",
   "execution_count": 20,
   "metadata": {},
   "outputs": [
    {
     "name": "stdout",
     "output_type": "stream",
     "text": [
      "1.5412\n"
     ]
    }
   ],
   "source": [
    "print(v_pi_2_2)"
   ]
  },
  {
   "cell_type": "code",
   "execution_count": 21,
   "metadata": {},
   "outputs": [
    {
     "name": "stdout",
     "output_type": "stream",
     "text": [
      "Q_PI UP: 0.0\n",
      "Q_PI DOWN: 2.708\n",
      "Q_PI LEFT: 2.9669999999999996\n",
      "Q_PI RIGHT: 0.0\n"
     ]
    }
   ],
   "source": [
    "print(\"Q_PI UP: \" + str(q_pi_2_2_p_u))\n",
    "print(\"Q_PI DOWN: \" + str(q_pi_2_2_p_d))\n",
    "print(\"Q_PI LEFT: \" + str(q_pi_2_2_p_l))\n",
    "print(\"Q_PI RIGHT: \" + str(q_pi_2_2_p_r))"
   ]
  },
  {
   "cell_type": "code",
   "execution_count": 22,
   "metadata": {},
   "outputs": [
    {
     "name": "stdout",
     "output_type": "stream",
     "text": [
      "1.5412\n"
     ]
    }
   ],
   "source": [
    "# sprawdzenie, czy poprawnie\n",
    "print(q_pi_2_2_p_u * 0.15 + q_pi_2_2_p_d * 0.35 + q_pi_2_2_p_l * 0.2 + q_pi_2_2_p_r * 0.3)"
   ]
  },
  {
   "cell_type": "markdown",
   "metadata": {},
   "source": [
    "Komentarz do zadania: <br>\n",
    "\"Następnie wyznacz wartości funkcji v_π oraz q_π (na podstawie wcześniej wyznaczonej v_π) dla zdefiniowanej strategii.\" <br>\n",
    "<br>\n",
    "Nie jestem pewna tego zdania, ale jeżeli chodziło o to, żeby w kolejny v_pi wykorzystać wartość z poprzedniego stanu v_pi, to np. dla stanu (2,1) w ruchu lewo wykorzystałabym wartość 1.84 zamiast 2.00. "
   ]
  },
  {
   "cell_type": "code",
   "execution_count": null,
   "metadata": {},
   "outputs": [],
   "source": []
  }
 ],
 "metadata": {
  "kernelspec": {
   "display_name": "Python 3",
   "language": "python",
   "name": "python3"
  },
  "language_info": {
   "codemirror_mode": {
    "name": "ipython",
    "version": 3
   },
   "file_extension": ".py",
   "mimetype": "text/x-python",
   "name": "python",
   "nbconvert_exporter": "python",
   "pygments_lexer": "ipython3",
   "version": "3.8.8"
  }
 },
 "nbformat": 4,
 "nbformat_minor": 1
}
